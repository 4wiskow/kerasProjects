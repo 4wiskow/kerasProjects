{
  "nbformat": 4,
  "nbformat_minor": 0,
  "metadata": {
    "colab": {
      "name": "xOr_LSTM.ipynb",
      "provenance": [],
      "collapsed_sections": [],
      "include_colab_link": true
    },
    "kernelspec": {
      "name": "python3",
      "display_name": "Python 3"
    }
  },
  "cells": [
    {
      "cell_type": "markdown",
      "metadata": {
        "id": "view-in-github",
        "colab_type": "text"
      },
      "source": [
        "<a href=\"https://colab.research.google.com/github/4wiskow/kerasProjects/blob/master/xOr_LSTM.ipynb\" target=\"_parent\"><img src=\"https://colab.research.google.com/assets/colab-badge.svg\" alt=\"Open In Colab\"/></a>"
      ]
    },
    {
      "cell_type": "code",
      "metadata": {
        "id": "ZoL3pz8vb_AH",
        "colab_type": "code",
        "colab": {}
      },
      "source": [
        "import random\n",
        "import numpy as np\n",
        "from keras.utils import to_categorical\n",
        "\n",
        "seed = 7\n",
        "np.random.seed(seed)\n",
        "\n",
        "# generate sequences of random bits\n",
        "sequences = []\n",
        "parity_values = [] # parity refers to wether the number of 1-bits in the sequence is odd (parity=1) or even (parity=0)\n",
        "max_sequence_length = 50\n",
        "n_samples = 100000\n",
        "for i in range(n_samples):\n",
        "  sequence_length = np.random.randint(1, max_sequence_length) \n",
        "  s = np.random.choice([0, 1], replace=True, size=sequence_length)\n",
        "  s = np.pad(s, (0, max_sequence_length-sequence_length), mode='constant', constant_values=0) # pad sequences with 0's to the right\n",
        "  sequences.append(s)\n",
        "  parity_values.append(np.sum(s) % 2)\n",
        "sequences = np.array(sequences)\n",
        "sequences = np.expand_dims(sequences, 2)\n",
        "parity_values = np.array(parity_values)"
      ],
      "execution_count": 0,
      "outputs": []
    },
    {
      "cell_type": "code",
      "metadata": {
        "id": "k2saeCTFf0ZC",
        "colab_type": "code",
        "colab": {}
      },
      "source": [
        "from keras.models import Sequential\n",
        "from keras.layers import LSTM, Dense, Masking\n",
        "from keras.optimizers import Adam, Adagrad\n",
        "\n",
        "model = Sequential()\n",
        "model.add(Masking(mask_value=0, input_shape=(max_sequence_length, 1))) # skip time steps which are irrelevant\n",
        "model.add(LSTM(units=32, batch_size=batch_size, return_sequences=False))\n",
        "model.add(Dense(units=1, activation='sigmoid'))\n",
        "\n",
        "opt = Adam(lr=0.1)\n",
        "\n",
        "model.compile(loss='binary_crossentropy', optimizer=opt, metrics=['accuracy'])"
      ],
      "execution_count": 0,
      "outputs": []
    },
    {
      "cell_type": "code",
      "metadata": {
        "id": "38Fe6hgMkO5B",
        "colab_type": "code",
        "outputId": "0b259b49-d227-4acd-fda6-637470b107d2",
        "colab": {
          "base_uri": "https://localhost:8080/",
          "height": 323
        }
      },
      "source": [
        "X_train = sequences[:90000]\n",
        "Y_train = parity_values[:90000]\n",
        "\n",
        "X_test = sequences[90000:]\n",
        "Y_test = parity_values[90000:]\n",
        "\n",
        "model.summary()\n",
        "batch_size = 30\n",
        "\n",
        "model.fit(X_train, Y_train, batch_size=batch_size)\n",
        "model.evaluate(X_test, Y_test, batch_size=batch_size)"
      ],
      "execution_count": 60,
      "outputs": [
        {
          "output_type": "stream",
          "text": [
            "Model: \"sequential_20\"\n",
            "_________________________________________________________________\n",
            "Layer (type)                 Output Shape              Param #   \n",
            "=================================================================\n",
            "masking_10 (Masking)         (None, 50, 1)             0         \n",
            "_________________________________________________________________\n",
            "lstm_19 (LSTM)               (None, 32)                4352      \n",
            "_________________________________________________________________\n",
            "dense_19 (Dense)             (None, 1)                 33        \n",
            "=================================================================\n",
            "Total params: 4,385\n",
            "Trainable params: 4,385\n",
            "Non-trainable params: 0\n",
            "_________________________________________________________________\n",
            "Epoch 1/1\n",
            "90000/90000 [==============================] - 124s 1ms/step - loss: 0.0263 - acc: 0.9844\n",
            "10000/10000 [==============================] - 5s 486us/step\n"
          ],
          "name": "stdout"
        },
        {
          "output_type": "execute_result",
          "data": {
            "text/plain": [
              "[7.773023487720821e-05, 1.0]"
            ]
          },
          "metadata": {
            "tags": []
          },
          "execution_count": 60
        }
      ]
    }
  ]
}